{
 "cells": [
  {
   "cell_type": "code",
   "execution_count": 366,
   "metadata": {},
   "outputs": [],
   "source": [
    "import pandas as pd\n",
    "import config\n",
    "import json\n",
    "import sys\n",
    "import numpy as np"
   ]
  },
  {
   "cell_type": "code",
   "execution_count": 367,
   "metadata": {},
   "outputs": [],
   "source": [
    "def process_ips_base_file():\n",
    "    df_base_file = pd.read_csv('C:/Users/pv/OneDrive - Kmart Australia Limited/KHome/My Offline Files/Desktop/Detail/IPS_all.csv')\n",
    "    df_base_file = pd.pivot_table(df_base_file, values='LINE_VALUE', index=['PRODUCT_GENERATED_IDENTIFIER','LOCATION_GENERATED_IDENTIFIER','PRODUCT_SOURCE_IDENTIFIER','LOCATION_SOURCE_IDENTIFIER','LOCATION_NAME','STATE','PRODUCT_DESCRIPTION','DEPARTMENT_DESCRIPTION','DATE_'], columns='LINE_ITEM', fill_value=0).reset_index()\n",
    "    df_base_file = df_base_file.rename(columns={\"MANIFEST\": \"IPS_MANIFEST\", \"SALES\": \"IPS_SALES\", \"SHRINK\": \"IPS_SHRINK\" ,\"ITC\": \"IPS_ITC\", \"PO\": \"IPS_PO\", \"RLO\": \"IPS_RLO\"})\n",
    "    return df_base_file"
   ]
  },
  {
   "cell_type": "code",
   "execution_count": 368,
   "metadata": {},
   "outputs": [],
   "source": [
    "def process_mr_base_file():\n",
    "    df_mr_base_file = pd.read_csv('C:/Users/pv/OneDrive - Kmart Australia Limited/KHome/My Offline Files/Desktop/Detail/MR_all.csv')\n",
    "    df_mr_base_file = pd.pivot_table(df_mr_base_file, values='LINE_VALUE', index=['PRODUCT_GENERATED_IDENTIFIER','LOCATION_GENERATED_IDENTIFIER','PRODUCT_SOURCE_IDENTIFIER','LOCATION_SOURCE_IDENTIFIER','LOCATION_NAME','STATE','PRODUCT_DESCRIPTION','DEPARTMENT_DESCRIPTION','DATE_'], columns='LINE_ITEM', fill_value=0).reset_index()\n",
    "    df_mr_base_file = df_mr_base_file.rename(columns={\"MANIFEST\": \"MR_MANIFEST\", \"SALES\": \"MR_SALES\", \"SHRINK\": \"MR_SHRINK\" ,\"ITC\": \"MR_ITC\", \"PO\": \"MR_PO\", \"RLO\": \"MR_RLO\"})\n",
    "    return df_mr_base_file"
   ]
  },
  {
   "cell_type": "code",
   "execution_count": 369,
   "metadata": {},
   "outputs": [],
   "source": [
    "def generate_rank(df_base_file, df_mr_base_file):\n",
    "    both_df = pd.merge(df_base_file, df_mr_base_file, how='inner', on=['PRODUCT_GENERATED_IDENTIFIER', 'LOCATION_GENERATED_IDENTIFIER'] ).drop_duplicates()\n",
    "    rnk_df = both_df[['PRODUCT_GENERATED_IDENTIFIER','LOCATION_GENERATED_IDENTIFIER']]\n",
    "    rnk_df[\"Rank\"] = both_df[['PRODUCT_GENERATED_IDENTIFIER','LOCATION_GENERATED_IDENTIFIER']].apply(tuple,axis=1).rank(method='dense',ascending=False).astype(int)\n",
    "    rnk_df = rnk_df.sort_values(\"Rank\").drop_duplicates()\n",
    "    return rnk_df"
   ]
  },
  {
   "cell_type": "code",
   "execution_count": 370,
   "metadata": {},
   "outputs": [
    {
     "name": "stderr",
     "output_type": "stream",
     "text": [
      "C:\\Users\\pv\\AppData\\Local\\Temp\\ipykernel_91880\\2580220989.py:4: SettingWithCopyWarning: \n",
      "A value is trying to be set on a copy of a slice from a DataFrame.\n",
      "Try using .loc[row_indexer,col_indexer] = value instead\n",
      "\n",
      "See the caveats in the documentation: https://pandas.pydata.org/pandas-docs/stable/user_guide/indexing.html#returning-a-view-versus-a-copy\n",
      "  rnk_df[\"Rank\"] = both_df[['PRODUCT_GENERATED_IDENTIFIER','LOCATION_GENERATED_IDENTIFIER']].apply(tuple,axis=1).rank(method='dense',ascending=False).astype(int)\n"
     ]
    }
   ],
   "source": [
    "df_base_file = process_ips_base_file()\n",
    "df_mr_base_file = process_mr_base_file()\n",
    "rnk_df = generate_rank(df_base_file, df_mr_base_file)\n",
    "\n",
    "df_base_file = pd.merge(df_base_file, rnk_df, how='inner', on=['PRODUCT_GENERATED_IDENTIFIER', 'LOCATION_GENERATED_IDENTIFIER'] ).drop_duplicates()\n",
    "df_mr_base_file = pd.merge(df_mr_base_file, rnk_df, how='inner', on=['PRODUCT_GENERATED_IDENTIFIER', 'LOCATION_GENERATED_IDENTIFIER'] ).drop_duplicates()\n",
    "res_ = pd.merge(df_base_file, df_mr_base_file, how='outer', on=['PRODUCT_GENERATED_IDENTIFIER', 'LOCATION_GENERATED_IDENTIFIER', 'PRODUCT_SOURCE_IDENTIFIER', 'LOCATION_SOURCE_IDENTIFIER','DATE_','LOCATION_NAME','STATE','PRODUCT_DESCRIPTION','DEPARTMENT_DESCRIPTION','Rank'])\n",
    "\n",
    "SOH_STARTING = 0\n",
    "detail_df = pd.DataFrame([])\n"
   ]
  },
  {
   "cell_type": "code",
   "execution_count": 371,
   "metadata": {},
   "outputs": [
    {
     "name": "stderr",
     "output_type": "stream",
     "text": [
      "100%|██████████| 75254/75254 [1:26:20<00:00, 14.53it/s]      \n"
     ]
    }
   ],
   "source": [
    "from tqdm import tqdm\n",
    "\n",
    "for i in tqdm(range(1, max(df_base_file['Rank'])+1)):\n",
    "        res = res_[res_.Rank==i]\n",
    "        #Calculate IPS and MR Cumulative_Sales\n",
    "        res = res.sort_values(by = ['DATE_'])\n",
    "        res = res.fillna(0)\n",
    "        res['IPS_Cumulative_Sales'] = res['IPS_SALES'].cumsum()\n",
    "        res['MR_Cumulative_Sales'] = res['MR_SALES'].cumsum()\n",
    "        res = res.fillna(0)\n",
    "        \n",
    "        res['IPS_CALC'] = res['IPS_MANIFEST'] + res['IPS_SALES'] + res['IPS_ITC'] + res['IPS_RLO'] + res['IPS_SHRINK'] #+ res['IPS_PO']\n",
    "        res['MR_CALC'] = res['MR_MANIFEST'] + res['MR_SALES'] + res['MR_ITC'] + res['MR_RLO'] + res['MR_SHRINK'] #+ res['MR_PO']\n",
    "        res['IPS_Dervied_SOH'] = res['IPS_CALC'].cumsum()\n",
    "        res['MR_Dervied_SOH'] = res['MR_CALC'].cumsum()\n",
    "\n",
    "        res = res.fillna(0)\n",
    "        res = res.drop_duplicates()\n",
    "        \n",
    "        if (((i % 100) == 0) or (i == max(df_base_file['Rank']))):\n",
    "                detail_df = pd.concat([detail_df,res])\n",
    "                detail_df = detail_df.drop(['IPS_CALC','MR_CALC'], axis=1)\n",
    "                detail_df.to_csv(\"C:/Users/pv/OneDrive - Kmart Australia Limited/KHome/My Offline Files/Desktop/All_Detail/\" + str(i) +\".csv\", index=False)\n",
    "                detail_df = pd.DataFrame([])\n",
    "        else: \n",
    "                detail_df = pd.concat([detail_df,res])"
   ]
  },
  {
   "cell_type": "code",
   "execution_count": 380,
   "metadata": {},
   "outputs": [],
   "source": [
    "import pandas as pd\n",
    "import os\n",
    "import glob\n",
    "path = os.getcwd()\n",
    "csv_files = glob.glob(os.path.join(\"C:/Users/pv/OneDrive - Kmart Australia Limited/KHome/My Offline Files/Desktop/All_Detail/\", \"*.csv\"))\n",
    "  \n",
    "  \n",
    "# loop over the list of csv files\n",
    "detail_df = pd.DataFrame([])\n",
    "for f in csv_files:\n",
    "    df = pd.read_csv(f)\n",
    "    detail_df = pd.concat([detail_df,df])\n",
    "\n",
    "detail_df = detail_df.drop('Rank', axis=1)\n",
    "      \n",
    "      "
   ]
  },
  {
   "cell_type": "code",
   "execution_count": 382,
   "metadata": {},
   "outputs": [],
   "source": [
    "detail_df.to_csv(\"C:/Users/pv/OneDrive - Kmart Australia Limited/KHome/My Offline Files/Desktop/Detail/PAPER_SHRINK_DETAILED_ALL.csv\", index=False)\n",
    " "
   ]
  }
 ],
 "metadata": {
  "kernelspec": {
   "display_name": "Python 3",
   "language": "python",
   "name": "python3"
  },
  "language_info": {
   "codemirror_mode": {
    "name": "ipython",
    "version": 3
   },
   "file_extension": ".py",
   "mimetype": "text/x-python",
   "name": "python",
   "nbconvert_exporter": "python",
   "pygments_lexer": "ipython3",
   "version": "3.11.2"
  },
  "orig_nbformat": 4
 },
 "nbformat": 4,
 "nbformat_minor": 2
}
